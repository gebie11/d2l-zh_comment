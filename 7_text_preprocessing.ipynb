{
 "cells": [
  {
   "cell_type": "markdown",
   "metadata": {},
   "source": [
    "# 文本预处理 #\n",
    "1. 将文本作为字符串加载到内存中。\n",
    "1. 将字符串拆分为词元（如单词和字符）。\n",
    "1. 建立一个词表，将拆分的词元映射到数字索引。\n",
    "1. 将文本转换为数字索引序列，方便模型操作。"
   ]
  },
  {
   "cell_type": "code",
   "execution_count": 1,
   "metadata": {},
   "outputs": [],
   "source": [
    "import collections\n",
    "import re\n",
    "from d2l import torch as d2l"
   ]
  },
  {
   "cell_type": "code",
   "execution_count": 2,
   "metadata": {},
   "outputs": [
    {
     "name": "stdout",
     "output_type": "stream",
     "text": [
      "# 文本总数： 3221\n",
      "the time machine by h g wells\n",
      "twinkled and his usually pale face was flushed and animated the\n"
     ]
    }
   ],
   "source": [
    "#@save\n",
    "d2l.DATA_HUB['time_machine'] = (d2l.DATA_URL+'timemachine.txt',\n",
    "                                '090b5e7e70c295757f55df93cb0a180b9691891a')\n",
    "\n",
    "def read_time_machine(): #@save\n",
    "    \"\"\"将时间机器数据集加载到文本行的列表中\"\"\"\n",
    "    with open(d2l.download('time_machine'),'r') as f:\n",
    "        lines = f.readlines()\n",
    "    # re.sub('[^A-Za-z]+',' ',line)：匹配非字母字符，替换为' '\n",
    "    # strip()：去掉首尾空格\n",
    "    # lower()：转换为小写\n",
    "    return [re.sub('[^A-Za-z]+',' ',line).strip().lower() for line in lines]\n",
    "\n",
    "lines = read_time_machine()\n",
    "print(f'# 文本总数： {len(lines)}')\n",
    "print(lines[0])\n",
    "print(lines[10])"
   ]
  },
  {
   "cell_type": "markdown",
   "metadata": {},
   "source": [
    "## 词元化 ##"
   ]
  },
  {
   "cell_type": "code",
   "execution_count": 3,
   "metadata": {},
   "outputs": [
    {
     "name": "stdout",
     "output_type": "stream",
     "text": [
      "['the', 'time', 'machine', 'by', 'h', 'g', 'wells']\n",
      "[]\n",
      "[]\n",
      "[]\n",
      "[]\n",
      "['i']\n",
      "[]\n",
      "[]\n",
      "['the', 'time', 'traveller', 'for', 'so', 'it', 'will', 'be', 'convenient', 'to', 'speak', 'of', 'him']\n",
      "['was', 'expounding', 'a', 'recondite', 'matter', 'to', 'us', 'his', 'grey', 'eyes', 'shone', 'and']\n"
     ]
    }
   ],
   "source": [
    "def tokenize(lines, token='word'):\n",
    "    \"\"\"将文本行拆分为单词或字符标记\"\"\"\n",
    "    if token == 'word':\n",
    "        return [line.split() for line in lines]\n",
    "    elif token == 'char':\n",
    "        return [list(line) for line in lines]\n",
    "    else:\n",
    "        print('错误：未知词元类型：' + token)\n",
    "\n",
    "tokens = tokenize(lines)\n",
    "for i in range(10):\n",
    "    print(tokens[i])"
   ]
  },
  {
   "cell_type": "markdown",
   "metadata": {},
   "source": [
    "# 词表(vocabulary) #"
   ]
  },
  {
   "cell_type": "code",
   "execution_count": 4,
   "metadata": {},
   "outputs": [],
   "source": [
    "class Vocab:  #@save\n",
    "    \"\"\"文本词表\"\"\"\n",
    "    def __init__(self, tokens=None, min_freq=0, reserved_tokens=None):\n",
    "        if tokens is None:\n",
    "            tokens = []\n",
    "        if reserved_tokens is None:\n",
    "            reserved_tokens = []\n",
    "        # 按出现频率排序\n",
    "        # 返回类似于Counter({'the': 2261, 'i': 1267, 'and': 1245, 'of': 1158, 'a': 816, 'to': 695, ...})\n",
    "        counter = count_corpus(tokens)\n",
    "        # 对词频的统计结果排序，输出排序好的键值对(字典的视图对象)\n",
    "        # \".item()\"：将字典转会为包含键值对的可迭代对象，每个对象是一个元组\n",
    "        #   * .item()方法只适用于字典，类似还有.keys(), .values()\n",
    "        # \"key=lambda x: x[1]\":按照每个元素的第二个元素（词频）排序\n",
    "        # \"reverse=True\"：降序排序\n",
    "        self._token_freqs = sorted(counter.items(), key=lambda x: x[1],\n",
    "                                   reverse=True)\n",
    "        # 初始化idx_to_token列表（从索引到词元的映射列表）\n",
    "        # 例：初始化为['<unk>', '<pad>', '<bos>', '<eos>']\n",
    "        self.idx_to_token = ['<unk>'] + reserved_tokens\n",
    "        # 初始化token_to_idx字典（从词元到索引的映射字典）\n",
    "        # enumerate(self.idx_to_token)：生成带索引的迭代器，每次迭代返回(idx,token)元组\n",
    "        # 例：初始化为{'<unk>'：0, '<pad>'：1, '<bos>'：2, '<eos>'：3}\n",
    "        self.token_to_idx = {token: idx\n",
    "                             for idx, token in enumerate(self.idx_to_token)}\n",
    "        # 追加tokens中的词元到词表\n",
    "        # 视图对象可以用for来遍历\n",
    "        for token, freq in self._token_freqs:\n",
    "            if freq < min_freq:\n",
    "                break\n",
    "            if token not in self.token_to_idx:\n",
    "                # token追加到索引->词元的列表\n",
    "                self.idx_to_token.append(token)\n",
    "                # 'token':idx 键值对追加到映射字典\n",
    "                self.token_to_idx[token] = len(self.idx_to_token) - 1\n",
    "    \n",
    "    def __len__(self):\n",
    "        return len(self.idx_to_token)\n",
    "\n",
    "    # 返回词元列表的索引列表\n",
    "    # __getitem__是特殊方法，使得对象可以像列表一样通过索引运算符'[]'来访问元素\n",
    "    def __getitem__(self, tokens):\n",
    "        # 如果tokens不是list/tuple，即tokens是单个词元\n",
    "        if not isinstance(tokens, (list, tuple)):\n",
    "            # 在字典中查找tokens的索引，找不到则返回unk的索引\n",
    "            # 这句使用了字典的get方法：dict.get(key,default)\n",
    "            return self.token_to_idx.get(tokens, self.unk)\n",
    "        # 递归地调用__getitem__函数，确保每个词元都找到索引\n",
    "        return [self.__getitem__(token) for token in tokens]\n",
    "\n",
    "    # 找到索引列表的词元列表\n",
    "    def to_tokens(self, indices):\n",
    "        if not isinstance(indices, (list, tuple)):\n",
    "            return self.idx_to_token[indices]\n",
    "        return [self.idx_to_token[index] for index in indices]\n",
    "\n",
    "    # \"@property\"装饰器将类中的函数变为属性，可以直接调用，不需要加括号\n",
    "    @property\n",
    "    def unk(self):  # 未知词元的索引为0\n",
    "        return 0\n",
    "\n",
    "    @property\n",
    "    def token_freqs(self):\n",
    "        return self._token_freqs\n",
    "\n",
    "def count_corpus(tokens):  #@save\n",
    "    \"\"\"统计词元的频率\"\"\"\n",
    "    # 这里的tokens是空列表或2D列表\n",
    "    if len(tokens) == 0 or isinstance(tokens[0], list):\n",
    "        # 将词元列表展平成一个列表\n",
    "        # 这是一个嵌套列表推导式\n",
    "        # 外层为：for line in tokens；内层为：for token in line\n",
    "        # 等价于：\n",
    "        #   flattened_tokens = []\n",
    "        #   for line in tokens:\n",
    "        #         for token in line:\n",
    "        #             flattened_tokens.append(token)\n",
    "        tokens = [token for line in tokens for token in line]\n",
    "    # 返回的Counter对象是字典的子类，键为词元，值为词元的频率\n",
    "    return collections.Counter(tokens)"
   ]
  },
  {
   "cell_type": "code",
   "execution_count": 5,
   "metadata": {},
   "outputs": [
    {
     "name": "stdout",
     "output_type": "stream",
     "text": [
      "[('<unk>', 0), ('the', 1), ('i', 2), ('and', 3), ('of', 4), ('a', 5), ('to', 6), ('was', 7), ('in', 8), ('that', 9)]\n"
     ]
    }
   ],
   "source": [
    "# 创建Vocab对象\n",
    "vocab = Vocab(tokens)\n",
    "# 注意.item()返回的视图对象是一个可迭代对象，但不可以索引访问\n",
    "print(list(vocab.token_to_idx.items())[:10])"
   ]
  },
  {
   "cell_type": "code",
   "execution_count": 6,
   "metadata": {},
   "outputs": [
    {
     "name": "stdout",
     "output_type": "stream",
     "text": [
      "文本： ['the', 'time', 'machine', 'by', 'h', 'g', 'wells']\n",
      "索引 [1, 19, 50, 40, 2183, 2184, 400]\n",
      "文本： ['twinkled', 'and', 'his', 'usually', 'pale', 'face', 'was', 'flushed', 'and', 'animated', 'the']\n",
      "索引 [2186, 3, 25, 1044, 362, 113, 7, 1421, 3, 1045, 1]\n"
     ]
    }
   ],
   "source": [
    "for i in [0,10]:\n",
    "    print('文本：', tokens[i])\n",
    "    # 调用Vacob对象的__getitem__方法\n",
    "    print(\"索引\", vocab[tokens[i]])"
   ]
  },
  {
   "cell_type": "code",
   "execution_count": 7,
   "metadata": {},
   "outputs": [
    {
     "data": {
      "text/plain": [
       "(170580, 28)"
      ]
     },
     "execution_count": 7,
     "metadata": {},
     "output_type": "execute_result"
    }
   ],
   "source": [
    "def load_corpus_time_machine(max_tokens=-1): #@save\n",
    "    lines = read_time_machine()\n",
    "    # 为了简化训练，用字符代替单词作为词元\n",
    "    tokens = tokenize(lines,'char')\n",
    "    vocab = Vocab(tokens)\n",
    "    # 将所有文本行转化到一个大列表中（嵌套列表推导式）\n",
    "    corpus = [vocab[token] for line in tokens for token in line]\n",
    "    if max_tokens > 0:\n",
    "        corpus = corpus[:max_tokens]\n",
    "    return corpus, vocab\n",
    "\n",
    "# corpus是什么？是把文本的每个字母转化为索引后的索引列表\n",
    "# vocab是什么？是一个Vocab对象，包含了字母的索引和字母的频率\n",
    "corpus, vocab = load_corpus_time_machine()\n",
    "corpus[:11], vocab['a','b','c','e']\n",
    "len(corpus),len(vocab)"
   ]
  }
 ],
 "metadata": {
  "kernelspec": {
   "display_name": "test",
   "language": "python",
   "name": "python3"
  },
  "language_info": {
   "codemirror_mode": {
    "name": "ipython",
    "version": 3
   },
   "file_extension": ".py",
   "mimetype": "text/x-python",
   "name": "python",
   "nbconvert_exporter": "python",
   "pygments_lexer": "ipython3",
   "version": "3.8.18"
  }
 },
 "nbformat": 4,
 "nbformat_minor": 2
}
