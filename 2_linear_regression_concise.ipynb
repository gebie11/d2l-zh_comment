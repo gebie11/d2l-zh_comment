{
 "cells": [
  {
   "cell_type": "code",
   "execution_count": 32,
   "metadata": {},
   "outputs": [],
   "source": [
    "import numpy as np\n",
    "import torch\n",
    "from torch.utils import data\n",
    "from d2l import torch as d2l"
   ]
  },
  {
   "cell_type": "code",
   "execution_count": 22,
   "metadata": {},
   "outputs": [],
   "source": [
    "true_w=torch.tensor([2,3.4,-12])\n",
    "true_b=23.3\n",
    "features, labels=d2l.synthetic_data(true_w,true_b,1000)"
   ]
  },
  {
   "cell_type": "code",
   "execution_count": 23,
   "metadata": {},
   "outputs": [],
   "source": [
    "def load_array(data_arrays, batch_size, is_train=True):\n",
    "    dataset=data.TensorDataset(*data_arrays)\n",
    "    return data.DataLoader(dataset, batch_size, shuffle=is_train)"
   ]
  },
  {
   "cell_type": "code",
   "execution_count": 24,
   "metadata": {},
   "outputs": [],
   "source": [
    "batch_size=10\n",
    "data_iter=load_array((features, labels), batch_size)"
   ]
  },
  {
   "cell_type": "code",
   "execution_count": 25,
   "metadata": {},
   "outputs": [
    {
     "data": {
      "text/plain": [
       "[tensor([[ 1.3699, -1.0095, -0.8440],\n",
       "         [-0.0338, -0.1680, -0.8426],\n",
       "         [ 1.2005, -0.8599, -0.2113],\n",
       "         [-0.8127,  1.8454, -0.3569],\n",
       "         [ 0.0038, -0.9881,  1.9547],\n",
       "         [ 0.3005, -0.3949,  1.7346],\n",
       "         [ 0.0441,  2.0579, -1.4013],\n",
       "         [-0.0715, -0.6176, -0.0474],\n",
       "         [-0.0782, -0.3567,  0.7442],\n",
       "         [-0.4057,  0.0996, -0.3821]]),\n",
       " tensor([[32.7425],\n",
       "         [32.7746],\n",
       "         [25.3152],\n",
       "         [32.2315],\n",
       "         [-3.5102],\n",
       "         [ 1.7334],\n",
       "         [47.1925],\n",
       "         [21.6328],\n",
       "         [12.9981],\n",
       "         [27.4081]])]"
      ]
     },
     "execution_count": 25,
     "metadata": {},
     "output_type": "execute_result"
    }
   ],
   "source": [
    "next(iter(data_iter))"
   ]
  },
  {
   "cell_type": "code",
   "execution_count": 26,
   "metadata": {},
   "outputs": [
    {
     "data": {
      "text/plain": [
       "[tensor([[-0.2397,  1.1406,  0.5391],\n",
       "         [ 1.3836,  0.6998, -0.0939],\n",
       "         [-1.2803, -0.4944, -0.4615],\n",
       "         [ 0.5608,  0.7564,  1.0508],\n",
       "         [ 1.3030, -0.9130, -0.9615],\n",
       "         [-0.9724, -0.8909, -2.6463],\n",
       "         [ 2.0777, -0.8665,  0.0528],\n",
       "         [ 0.1405,  0.4248,  1.3131],\n",
       "         [-0.7177,  0.5858, -0.3547],\n",
       "         [ 0.7383, -0.6210, -0.4856]]),\n",
       " tensor([[20.2201],\n",
       "         [29.5839],\n",
       "         [24.5882],\n",
       "         [14.3902],\n",
       "         [34.3324],\n",
       "         [50.0732],\n",
       "         [23.8716],\n",
       "         [ 9.2744],\n",
       "         [28.1410],\n",
       "         [28.5083]])]"
      ]
     },
     "execution_count": 26,
     "metadata": {},
     "output_type": "execute_result"
    }
   ],
   "source": [
    "next(iter(data_iter))"
   ]
  },
  {
   "cell_type": "code",
   "execution_count": 27,
   "metadata": {},
   "outputs": [],
   "source": [
    "from torch import nn\n",
    "net = nn.Sequential(nn.Linear(3,1))"
   ]
  },
  {
   "cell_type": "code",
   "execution_count": 28,
   "metadata": {},
   "outputs": [
    {
     "data": {
      "text/plain": [
       "tensor([0.])"
      ]
     },
     "execution_count": 28,
     "metadata": {},
     "output_type": "execute_result"
    }
   ],
   "source": [
    "net[0].weight.data.normal_(0,0.01)\n",
    "net[0].bias.data.fill_(0)"
   ]
  },
  {
   "cell_type": "code",
   "execution_count": 29,
   "metadata": {},
   "outputs": [],
   "source": [
    "loss = nn.MSELoss()"
   ]
  },
  {
   "cell_type": "code",
   "execution_count": 30,
   "metadata": {},
   "outputs": [],
   "source": [
    "trainer = torch.optim.SGD(net.parameters(),lr=0.03)"
   ]
  },
  {
   "cell_type": "code",
   "execution_count": 31,
   "metadata": {},
   "outputs": [
    {
     "name": "stdout",
     "output_type": "stream",
     "text": [
      "epoch:1, loss:0.003789\n",
      "epoch:2, loss:0.000104\n",
      "epoch:3, loss:0.000103\n"
     ]
    }
   ],
   "source": [
    "num_epochs=3\n",
    "for epoch in range(num_epochs):\n",
    "    for X,y in data_iter:\n",
    "        l=loss(net(X),y)\n",
    "        # 反向传播计算梯度前梯度清零\n",
    "        # 注意梯度清零的对象是optimizer而不是net\n",
    "        trainer.zero_grad()\n",
    "        # 反向传播计算梯度（计算图）\n",
    "        l.backward()\n",
    "        # 随机梯度下降（SGD）更新参数\n",
    "        trainer.step()\n",
    "    l=loss(net(features),labels)\n",
    "    print(f'epoch:{epoch+1}, loss:{l:f}')"
   ]
  },
  {
   "cell_type": "code",
   "execution_count": null,
   "metadata": {},
   "outputs": [
    {
     "name": "stdout",
     "output_type": "stream",
     "text": [
      "w的估计误差： tensor([ 6.6638e-05,  1.2589e-04, -2.0027e-04])\n",
      "b的估计误差： tensor([0.0004])\n"
     ]
    }
   ],
   "source": [
    "w=net[0].weight.data\n",
    "print('w的估计误差：',true_w-w.reshape(true_w.shape))\n",
    "b=net[0].bias.data\n",
    "print('b的估计误差：',true_b-b)"
   ]
  },
  {
   "cell_type": "code",
   "execution_count": null,
   "metadata": {},
   "outputs": [],
   "source": []
  }
 ],
 "metadata": {
  "kernelspec": {
   "display_name": "test01",
   "language": "python",
   "name": "python3"
  },
  "language_info": {
   "codemirror_mode": {
    "name": "ipython",
    "version": 3
   },
   "file_extension": ".py",
   "mimetype": "text/x-python",
   "name": "python",
   "nbconvert_exporter": "python",
   "pygments_lexer": "ipython3",
   "version": "3.8.18"
  }
 },
 "nbformat": 4,
 "nbformat_minor": 2
}
