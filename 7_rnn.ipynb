{
 "cells": [
  {
   "cell_type": "markdown",
   "metadata": {},
   "source": [
    "用$\\mathbf{H}_t  \\in \\mathbb{R}^{n \\times h}$\n",
    "表示时间步$t$的隐藏变量\n",
    "与多层感知机不同的是，\n",
    "我们在这里保存了前一个时间步的隐藏变量$\\mathbf{H}_{t-1}$，\n",
    "并引入了一个新的权重参数$\\mathbf{W}_{hh} \\in \\mathbb{R}^{h \\times h}$，\n",
    "来描述如何在当前时间步中使用前一个时间步的隐藏变量。   \n",
    "隐状态的计算如下：\n",
    "$$\\mathbf{H}_t = \\phi(\\mathbf{X}_t \\mathbf{W}_{xh} + \\mathbf{H}_{t-1} \\mathbf{W}_{hh}  + \\mathbf{b}_h).$$  \n",
    "类似于mlp的输出计算如下：\n",
    "$$\\mathbf{O}_t = \\mathbf{H}_t \\mathbf{W}_{hq} + \\mathbf{b}_q.$$\n",
    "循环神经网络的参数包括隐藏层的权重\n",
    "$\\mathbf{W}_{xh} \\in \\mathbb{R}^{d \\times h}, \\mathbf{W}_{hh} \\in \\mathbb{R}^{h \\times h}$和偏置$\\mathbf{b}_h \\in \\mathbb{R}^{1 \\times h}$，\n",
    "以及输出层的权重$\\mathbf{W}_{hq} \\in \\mathbb{R}^{h \\times q}$\n",
    "和偏置$\\mathbf{b}_q \\in \\mathbb{R}^{1 \\times q}$。"
   ]
  },
  {
   "cell_type": "markdown",
   "metadata": {},
   "source": [
    "隐状态中\n",
    "$\\mathbf{X}_t \\mathbf{W}_{xh} + \\mathbf{H}_{t-1} \\mathbf{W}_{hh}$的计算，\n",
    "相当于$\\mathbf{X}_t$和$\\mathbf{H}_{t-1}$的拼接\n",
    "与$\\mathbf{W}_{xh}$和$\\mathbf{W}_{hh}$的拼接的矩阵乘法。  \n",
    "下面是代码证明"
   ]
  },
  {
   "cell_type": "code",
   "execution_count": 1,
   "metadata": {},
   "outputs": [],
   "source": [
    "import torch\n",
    "from d2l import torch as d2l"
   ]
  },
  {
   "cell_type": "code",
   "execution_count": 3,
   "metadata": {},
   "outputs": [
    {
     "data": {
      "text/plain": [
       "tensor([[ 0.1222,  0.6723,  0.5746,  0.8048],\n",
       "        [ 0.1770, -2.2203, -1.4373,  1.5019],\n",
       "        [ 0.3820,  1.9636,  0.2041,  3.9789]])"
      ]
     },
     "execution_count": 3,
     "metadata": {},
     "output_type": "execute_result"
    }
   ],
   "source": [
    "X,W_xh = torch.normal(0,1,(3,1)),torch.normal(0,1,(1,4))\n",
    "H,W_hh = torch.normal(0,1,(3,4)),torch.normal(0,1,(4,4))\n",
    "torch.matmul(X,W_xh)+torch.matmul(H,W_hh)"
   ]
  },
  {
   "cell_type": "code",
   "execution_count": 5,
   "metadata": {},
   "outputs": [
    {
     "data": {
      "text/plain": [
       "tensor([[ 0.1222,  0.6723,  0.5746,  0.8048],\n",
       "        [ 0.1770, -2.2203, -1.4373,  1.5019],\n",
       "        [ 0.3820,  1.9636,  0.2041,  3.9789]])"
      ]
     },
     "execution_count": 5,
     "metadata": {},
     "output_type": "execute_result"
    }
   ],
   "source": [
    "torch.matmul(torch.cat((X,H),1), torch.cat((W_xh,W_hh),0))"
   ]
  },
  {
   "cell_type": "markdown",
   "metadata": {},
   "source": [
    "## 练习 ##\n",
    "1. 为什么如果我们使用循环神经网络来预测文本序列中的下一个字符，那么任意输出所需的维度是多少？  \n",
    "维度取决于词汇表/字符集的大小。如果是英语字符集，只需要26个小写字母+26个大写字母。如果是词汇表，那纬度可能会很大  \n",
    "1. 为什么循环神经网络可以基于文本序列中所有先前的词元，在某个时间步表示当前词元的条件概率？  \n",
    "我们不仅接收当前输入，还加入了隐状态$W_{hh}$来捕获到当前时间步为止的所有历史状态"
   ]
  },
  {
   "cell_type": "markdown",
   "metadata": {},
   "source": []
  }
 ],
 "metadata": {
  "kernelspec": {
   "display_name": "test",
   "language": "python",
   "name": "python3"
  },
  "language_info": {
   "codemirror_mode": {
    "name": "ipython",
    "version": 3
   },
   "file_extension": ".py",
   "mimetype": "text/x-python",
   "name": "python",
   "nbconvert_exporter": "python",
   "pygments_lexer": "ipython3",
   "version": "3.8.18"
  }
 },
 "nbformat": 4,
 "nbformat_minor": 2
}
