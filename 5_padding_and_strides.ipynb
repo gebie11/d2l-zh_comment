{
 "cells": [
  {
   "cell_type": "markdown",
   "metadata": {},
   "source": [
    "**填充（padding）**  \n",
    "**padding**:在图像边缘填充元素，来避免由卷积核引起的图像边界的信息丢失  \n",
    "适用于卷积核后，图像的输出大小为\n",
    "$$(n_h-k_h+1)\\times(n_w-k_w+1)。$$\n",
    "高度增加$p_h$，宽度增加$p_w$后，图像大小变为\n",
    "$$(n_h-k_h+p_h+1)\\times(n_w-k_w+p_w+1)。$$\n",
    "$p_h=k_h-1$, $p_w=k_w-1$，  \n",
    "padding的size: ($(k_h-1)/2$,$(k_w-1(/2))$),通常$k_h$和$k_w$为奇数  "
   ]
  },
  {
   "cell_type": "code",
   "execution_count": 6,
   "metadata": {},
   "outputs": [
    {
     "data": {
      "text/plain": [
       "(torch.Size([10, 10]),\n",
       " Conv2d(1, 1, kernel_size=(3, 3), stride=(1, 1), padding=(1, 1)),\n",
       " tensor([[0.1203, 0.8436, 0.3949, 0.7377, 0.4416, 0.8500, 0.8119, 0.6622, 0.5382,\n",
       "          0.2275],\n",
       "         [0.3435, 0.9142, 0.5788, 0.4238, 0.9410, 0.5457, 0.9585, 0.6148, 0.3452,\n",
       "          0.0488],\n",
       "         [0.6432, 0.7740, 0.1531, 0.0278, 0.1152, 0.3711, 0.4830, 0.5853, 0.9579,\n",
       "          0.2882],\n",
       "         [0.9005, 0.8917, 0.9944, 0.5042, 0.5818, 0.7919, 0.6900, 0.0018, 0.7130,\n",
       "          0.8846],\n",
       "         [0.1429, 0.6280, 0.5572, 0.1549, 0.3776, 0.6501, 0.8503, 0.0639, 0.8862,\n",
       "          0.1033],\n",
       "         [0.1826, 0.7610, 0.8126, 0.4848, 0.5956, 0.8935, 0.4034, 0.4886, 0.7383,\n",
       "          0.8552],\n",
       "         [0.1081, 0.2784, 0.2359, 0.4405, 0.0967, 0.2150, 0.7731, 0.4190, 0.7955,\n",
       "          0.0035],\n",
       "         [0.4474, 0.3027, 0.6621, 0.1371, 0.4664, 0.9515, 0.6521, 0.9693, 0.8744,\n",
       "          0.3200],\n",
       "         [0.2228, 0.2824, 0.3091, 0.2651, 0.8691, 0.1684, 0.8257, 0.5382, 0.4538,\n",
       "          0.9346],\n",
       "         [0.6217, 0.7059, 0.8493, 0.9586, 0.4741, 0.0236, 0.9198, 0.9706, 0.9365,\n",
       "          0.5286]]))"
      ]
     },
     "execution_count": 6,
     "metadata": {},
     "output_type": "execute_result"
    }
   ],
   "source": [
    "import torch\n",
    "from torch import nn\n",
    "\n",
    "# 卷积计算\n",
    "def comp_conv2d(conv2d, X):\n",
    "    # 这里的(1,1)表示批量大小和通道数都是1\n",
    "    X = X.reshape((1,1)+X.shape)\n",
    "    Y = conv2d(X)\n",
    "    # 这里忽略前两个维度：批量大小和通道\n",
    "    return Y.reshape(Y.shape[2:])\n",
    "\n",
    "# 注意padding是两侧分别填充1行或列，所以在两侧一共填充2行或列\n",
    "conv2d = nn.Conv2d(1,1,kernel_size=3,padding=1)\n",
    "X = torch.rand(size=(10,10))\n",
    "comp_conv2d(conv2d, X).shape,conv2d,X"
   ]
  },
  {
   "cell_type": "code",
   "execution_count": 7,
   "metadata": {},
   "outputs": [],
   "source": [
    "conv2d = nn.Conv2d(1,1,kernel_size=(5,3),padding=(2,1))"
   ]
  },
  {
   "cell_type": "markdown",
   "metadata": {},
   "source": [
    "**步幅（strides）**  \n",
    "卷积窗口每次滑动的元素个数成为步幅  \n",
    "\n",
    "通常，当垂直步幅为$s_h$、水平步幅为$s_w$时，输出形状为\n",
    "$$\\lfloor(n_h-k_h+p_h+s_h)/s_h\\rfloor \\times \\lfloor(n_w-k_w+p_w+s_w)/s_w\\rfloor.$$\n",
    "如果我们设置了$p_h=k_h-1$和$p_w=k_w-1$，则输出形状将简化为$\\lfloor(n_h+s_h-1)/s_h\\rfloor \\times \\lfloor(n_w+s_w-1)/s_w\\rfloor$。\n",
    "更进一步，如果输入的高度和宽度可以被垂直和水平步幅整除，则输出形状将为$(n_h/s_h) \\times (n_w/s_w)$。\n"
   ]
  },
  {
   "cell_type": "code",
   "execution_count": 8,
   "metadata": {},
   "outputs": [
    {
     "data": {
      "text/plain": [
       "torch.Size([5, 5])"
      ]
     },
     "execution_count": 8,
     "metadata": {},
     "output_type": "execute_result"
    }
   ],
   "source": [
    "conv2d = nn.Conv2d(1,1,kernel_size=3,padding=1,stride=2)\n",
    "comp_conv2d(conv2d, X).shape"
   ]
  },
  {
   "cell_type": "code",
   "execution_count": 9,
   "metadata": {},
   "outputs": [
    {
     "data": {
      "text/plain": [
       "torch.Size([3, 2])"
      ]
     },
     "execution_count": 9,
     "metadata": {},
     "output_type": "execute_result"
    }
   ],
   "source": [
    "conv2d = nn.Conv2d(1,1,kernel_size=(3,5),padding=(0,1), stride=(3,4))\n",
    "comp_conv2d(conv2d, X).shape"
   ]
  },
  {
   "cell_type": "code",
   "execution_count": null,
   "metadata": {},
   "outputs": [],
   "source": []
  }
 ],
 "metadata": {
  "kernelspec": {
   "display_name": "test01",
   "language": "python",
   "name": "python3"
  },
  "language_info": {
   "codemirror_mode": {
    "name": "ipython",
    "version": 3
   },
   "file_extension": ".py",
   "mimetype": "text/x-python",
   "name": "python",
   "nbconvert_exporter": "python",
   "pygments_lexer": "ipython3",
   "version": "3.8.18"
  }
 },
 "nbformat": 4,
 "nbformat_minor": 2
}
